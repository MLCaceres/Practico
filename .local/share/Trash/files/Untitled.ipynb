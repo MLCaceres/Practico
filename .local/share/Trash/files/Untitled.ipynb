{
 "cells": [
  {
   "cell_type": "code",
   "execution_count": 12,
   "metadata": {},
   "outputs": [
    {
     "name": "stdout",
     "output_type": "stream",
     "text": [
      "Populating the interactive namespace from numpy and matplotlib\n"
     ]
    },
    {
     "data": {
      "text/plain": [
       "[<matplotlib.lines.Line2D at 0x7f40da95f410>]"
      ]
     },
     "execution_count": 12,
     "metadata": {},
     "output_type": "execute_result"
    },
    {
     "data": {
      "image/png": "[encoded data removed]",
      "text/plain": [
       "<Figure size 432x288 with 1 Axes>"
      ]
     },
     "metadata": {
      "needs_background": "light"
     },
     "output_type": "display_data"
    }
   ],
   "source": [
    "%pylab inline\n",
    "import scipy.signal as sig\n",
    "import numpy as np\n",
    "import matplotlib.pyplot as plt\n",
    "from scipy.fftpack import fft, ifft\n",
    "from __future__ import division\n",
    "\n",
    "########### Parámetros Iniciales ###########\n",
    "Fs = 10000   # Sampling Freq 10KHz\n",
    "N = 201      # Samples number\n",
    "t = np.linspace(0,N/Fs,num=N) # Crea una variable de tiempo desde 0, con intervalos de 1/Fs\n",
    "\n",
    "zeros = np.zeros(100)\n",
    "ones = np.ones(1)\n",
    "dirac = np.concatenate((zeros,ones,zeros),axis=0)\n",
    "\n",
    "MVSIZE = 3\n",
    "\n",
    "avg = np.zeros(N)\n",
    "for n in range(len(dirac)):\n",
    "    suma = 0\n",
    "    d = 0\n",
    "    for k in range (-(MVSIZE), MVSIZE):\n",
    "        if ((n-k) > 0) and ((n-k) < (len(dirac))):\n",
    "            suma = suma + dirac[(n-k)]\n",
    "            d = d+1\n",
    "    avg[n] = np.copy(suma/d)\n",
    "plt.plot(abs(fft(avg)"
   ]
  },
  {
   "cell_type": "code",
   "execution_count": null,
   "metadata": {},
   "outputs": [],
   "source": []
  }
 ],
 "metadata": {
  "kernelspec": {
   "display_name": "Python 2",
   "language": "python",
   "name": "python2"
  },
  "language_info": {
   "codemirror_mode": {
    "name": "ipython",
    "version": 2
   },
   "file_extension": ".py",
   "mimetype": "text/x-python",
   "name": "python",
   "nbconvert_exporter": "python",
   "pygments_lexer": "ipython2",
   "version": "2.7.13"
  }
 },
 "nbformat": 4,
 "nbformat_minor": 2
}
